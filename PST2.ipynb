{
  "nbformat": 4,
  "nbformat_minor": 0,
  "metadata": {
    "colab": {
      "provenance": [],
      "authorship_tag": "ABX9TyMoY9JV0xxyab8VFw8BB/B4",
      "include_colab_link": true
    },
    "kernelspec": {
      "name": "ir",
      "display_name": "R"
    },
    "language_info": {
      "name": "R"
    }
  },
  "cells": [
    {
      "cell_type": "markdown",
      "metadata": {
        "id": "view-in-github",
        "colab_type": "text"
      },
      "source": [
        "<a href=\"https://colab.research.google.com/github/ashley0426/MXB107/blob/main/PST2.ipynb\" target=\"_parent\"><img src=\"https://colab.research.google.com/assets/colab-badge.svg\" alt=\"Open In Colab\"/></a>"
      ]
    },
    {
      "cell_type": "code",
      "execution_count": null,
      "metadata": {
        "colab": {
          "base_uri": "https://localhost:8080/",
          "height": 142
        },
        "id": "7MxJHckUIR_5",
        "outputId": "bac1f875-ab87-48bb-c6f7-634244220532"
      },
      "outputs": [
        {
          "output_type": "stream",
          "name": "stdout",
          "text": [
            "[1] \"p_hat\"\n"
          ]
        },
        {
          "output_type": "display_data",
          "data": {
            "text/html": [
              "0.278"
            ],
            "text/markdown": "0.278",
            "text/latex": "0.278",
            "text/plain": [
              "[1] 0.278"
            ]
          },
          "metadata": {}
        },
        {
          "output_type": "stream",
          "name": "stdout",
          "text": [
            "[1] \"z_95\"\n"
          ]
        },
        {
          "output_type": "display_data",
          "data": {
            "text/html": [
              "1.95996398454005"
            ],
            "text/markdown": "1.95996398454005",
            "text/latex": "1.95996398454005",
            "text/plain": [
              "[1] 1.959964"
            ]
          },
          "metadata": {}
        },
        {
          "output_type": "stream",
          "name": "stdout",
          "text": [
            "[1] \"Plug-in CI\"\n"
          ]
        },
        {
          "output_type": "display_data",
          "data": {
            "text/html": [
              "0.25023235248253"
            ],
            "text/markdown": "0.25023235248253",
            "text/latex": "0.25023235248253",
            "text/plain": [
              "[1] 0.2502324"
            ]
          },
          "metadata": {}
        },
        {
          "output_type": "display_data",
          "data": {
            "text/html": [
              "0.30576764751747"
            ],
            "text/markdown": "0.30576764751747",
            "text/latex": "0.30576764751747",
            "text/plain": [
              "[1] 0.3057676"
            ]
          },
          "metadata": {}
        }
      ],
      "source": [
        "n= 1000\n",
        "x = 278\n",
        "print(\"p_hat\")\n",
        "p_hat = x/n\n",
        "p_hat\n",
        "\n",
        "z_95 = qnorm(0.975)\n",
        "print(\"z_95\")\n",
        "z_95\n",
        "\n",
        "print(\"Plug-in CI\")\n",
        "lower = p_hat - z_95*sqrt(p_hat*(1-p_hat)/n)\n",
        "upper = p_hat + z_95*sqrt(p_hat*(1-p_hat)/n)\n",
        "lower;upper\n"
      ]
    },
    {
      "cell_type": "code",
      "source": [
        "x = c(74, 81, 77, 69, 85, 80, 73, 78) # session study\n",
        "y = c(65, 70, 68, 72, 66, 71) # self study\n",
        "\n",
        "n_x = length(x)\n",
        "n_y = length(y)\n",
        "\n",
        "\n",
        "x_bar = mean(x)\n",
        "y_bar = mean(y)\n",
        "\n",
        "s_x = var(x)\n",
        "s_y = var(y)\n",
        "\n",
        "max(s_x,s_y)/ min(s_x, s_y) # greater than 3. Using approximate t-distribution\n",
        "\n",
        "T_test <- (x_bar - y_bar)/ sqrt((s_x/n_x + s_y/ n_y))\n",
        "\n",
        "v = ((s_x/n_x + s_y/n_y)^2) / ((s_x/n_x)^2/(n_x-1) + (s_y/n_y)^2/(n_y - 1))\n",
        "\n",
        "t_critical = qt(0.95, v)  # 95% one-sided test\n",
        "\n",
        "ME <- t_critical * sqrt((s_x/n_x + s_y/n_y))\n",
        "CI_lower <- (x_bar - y_bar) - ME   # lower bound only\n",
        "CI_upper <- Inf                   # upper bound is infinity for one-sided\n",
        "CI_lower\n",
        "t.test(x, y, alternative = \"greater\")"
      ],
      "metadata": {
        "id": "khIqX26-ITkX",
        "outputId": "714402b8-a77a-4dce-d90a-7749a73424dc",
        "colab": {
          "base_uri": "https://localhost:8080/",
          "height": 254
        }
      },
      "execution_count": 43,
      "outputs": [
        {
          "output_type": "display_data",
          "data": {
            "text/html": [
              "3.24833535108959"
            ],
            "text/markdown": "3.24833535108959",
            "text/latex": "3.24833535108959",
            "text/plain": [
              "[1] 3.248335"
            ]
          },
          "metadata": {}
        },
        {
          "output_type": "display_data",
          "data": {
            "text/html": [
              "4.65472136502231"
            ],
            "text/markdown": "4.65472136502231",
            "text/latex": "4.65472136502231",
            "text/plain": [
              "[1] 4.654721"
            ]
          },
          "metadata": {}
        },
        {
          "output_type": "display_data",
          "data": {
            "text/plain": [
              "\n",
              "\tWelch Two Sample t-test\n",
              "\n",
              "data:  x and y\n",
              "t = 3.9849, df = 11.268, p-value = 0.001021\n",
              "alternative hypothesis: true difference in means is greater than 0\n",
              "95 percent confidence interval:\n",
              " 4.654721      Inf\n",
              "sample estimates:\n",
              "mean of x mean of y \n",
              " 77.12500  68.66667 \n"
            ]
          },
          "metadata": {}
        }
      ]
    },
    {
      "cell_type": "code",
      "source": [
        "x <- c(32,37,35,28,41,44,35,31,34)\n",
        "y <- c(35,31,29,25,34,40,27,32,31)\n",
        "\n",
        "xbar <- mean(x)\n",
        "ybar <- mean(y)\n",
        "\n",
        "nx <- length(x)\n",
        "ny <- length(y)\n",
        "\n",
        "varx <- var(x)\n",
        "vary <- var(y)\n",
        "\n",
        "varp <- ((nx-1)*varx + (ny-1)*vary)/(nx+ny-2)\n",
        "\n",
        "T_test <- (xbar-ybar)/sqrt(varp*(1/nx+1/ny))\n",
        "T_critical <-qt(1-(0.05/2),16)\n",
        "\n",
        "abs(T_test) > qt(0.975,16)\n",
        "\n"
      ],
      "metadata": {
        "id": "Kcs7SAsSw0tI",
        "colab": {
          "base_uri": "https://localhost:8080/",
          "height": 254
        },
        "outputId": "02d63e55-b2df-484d-e81a-6ad180d0c011"
      },
      "execution_count": 33,
      "outputs": [
        {
          "output_type": "display_data",
          "data": {
            "text/html": [
              "1.6494846165734"
            ],
            "text/markdown": "1.6494846165734",
            "text/latex": "1.6494846165734",
            "text/plain": [
              "[1] 1.649485"
            ]
          },
          "metadata": {}
        },
        {
          "output_type": "display_data",
          "data": {
            "text/html": [
              "FALSE"
            ],
            "text/markdown": "FALSE",
            "text/latex": "FALSE",
            "text/plain": [
              "[1] FALSE"
            ]
          },
          "metadata": {}
        },
        {
          "output_type": "display_data",
          "data": {
            "text/plain": [
              "\n",
              "\tWelch Two Sample t-test\n",
              "\n",
              "data:  x and y\n",
              "t = 1.6495, df = 15.844, p-value = 0.1187\n",
              "alternative hypothesis: true difference in means is not equal to 0\n",
              "95 percent confidence interval:\n",
              " -1.049486  8.382820\n",
              "sample estimates:\n",
              "mean of x mean of y \n",
              " 35.22222  31.55556 \n"
            ]
          },
          "metadata": {}
        }
      ]
    },
    {
      "cell_type": "code",
      "source": [
        "x1 <- c(1.25,1.16,1.33,1.15,1.23,1.20,1.32,1.28,1.21)\n",
        "x2 <- c(0.89,1.01,0.97,0.95,0.94,1.02,0.98,1.06,0.98)\n",
        "xbar1 <- mean(x1)\n",
        "xbar2 <- mean(x2)\n",
        "\n",
        "s1 <- var(x1)\n",
        "s2 <- var(x2)\n",
        "\n",
        "max(s1,s2)/min(s1,s2)\n",
        "\n",
        "n1 <- length(x1)\n",
        "n2 <- length(x2)\n",
        "\n",
        "num <- (s1/n1+s2/n2)^2\n",
        "den <- (s1/n1)^2/(n1-1)+(s2/n2)^2/(n2-1)\n",
        "nu <- (num/den)\n",
        "\n",
        "test.statistic <- (xbar1-xbar2)/sqrt(s1/n1+s2/n2)\n",
        "test.statistic\n",
        "t.crit <- qt(0.975,nu)\n",
        "\n",
        "test.statistic>t.crit\n",
        "\n",
        "t.test(x1, x2)"
      ],
      "metadata": {
        "id": "M-ssLb7l8lRA",
        "outputId": "25f5ad1c-550c-4cb2-960a-8a97046fbc5a",
        "colab": {
          "base_uri": "https://localhost:8080/",
          "height": 271
        }
      },
      "execution_count": 31,
      "outputs": [
        {
          "output_type": "display_data",
          "data": {
            "text/html": [
              "1.69772727272727"
            ],
            "text/markdown": "1.69772727272727",
            "text/latex": "1.69772727272727",
            "text/plain": [
              "[1] 1.697727"
            ]
          },
          "metadata": {}
        },
        {
          "output_type": "display_data",
          "data": {
            "text/html": [
              "9.56413195488997"
            ],
            "text/markdown": "9.56413195488997",
            "text/latex": "9.56413195488997",
            "text/plain": [
              "[1] 9.564132"
            ]
          },
          "metadata": {}
        },
        {
          "output_type": "display_data",
          "data": {
            "text/html": [
              "TRUE"
            ],
            "text/markdown": "TRUE",
            "text/latex": "TRUE",
            "text/plain": [
              "[1] TRUE"
            ]
          },
          "metadata": {}
        },
        {
          "output_type": "display_data",
          "data": {
            "text/plain": [
              "\n",
              "\tWelch Two Sample t-test\n",
              "\n",
              "data:  x1 and x2\n",
              "t = 9.5641, df = 14.997, p-value = 8.969e-08\n",
              "alternative hypothesis: true difference in means is not equal to 0\n",
              "95 percent confidence interval:\n",
              " 0.2011922 0.3165856\n",
              "sample estimates:\n",
              "mean of x mean of y \n",
              "1.2366667 0.9777778 \n"
            ]
          },
          "metadata": {}
        }
      ]
    },
    {
      "cell_type": "code",
      "source": [
        "x = c(3,2,2,-1,3,3,3,3)\n",
        "sd(x)\n",
        "n = length(x)\n",
        "v = n - 1\n"
      ],
      "metadata": {
        "id": "89Cu20xYLzkB",
        "outputId": "9d30a894-5584-41e5-8afb-2d0cf03ecf51",
        "colab": {
          "base_uri": "https://localhost:8080/",
          "height": 34
        }
      },
      "execution_count": 49,
      "outputs": [
        {
          "output_type": "display_data",
          "data": {
            "text/html": [
              "1.38873014965883"
            ],
            "text/markdown": "1.38873014965883",
            "text/latex": "1.38873014965883",
            "text/plain": [
              "[1] 1.38873"
            ]
          },
          "metadata": {}
        }
      ]
    },
    {
      "cell_type": "code",
      "source": [],
      "metadata": {
        "id": "iva1KqlryX0d"
      },
      "execution_count": null,
      "outputs": []
    }
  ]
}