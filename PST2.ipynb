{
  "nbformat": 4,
  "nbformat_minor": 0,
  "metadata": {
    "colab": {
      "provenance": [],
      "authorship_tag": "ABX9TyN0U6vv0OiI7bDWVPUh/OLN",
      "include_colab_link": true
    },
    "kernelspec": {
      "name": "ir",
      "display_name": "R"
    },
    "language_info": {
      "name": "R"
    }
  },
  "cells": [
    {
      "cell_type": "markdown",
      "metadata": {
        "id": "view-in-github",
        "colab_type": "text"
      },
      "source": [
        "<a href=\"https://colab.research.google.com/github/ashley0426/MXB107/blob/main/PST2.ipynb\" target=\"_parent\"><img src=\"https://colab.research.google.com/assets/colab-badge.svg\" alt=\"Open In Colab\"/></a>"
      ]
    },
    {
      "cell_type": "code",
      "execution_count": null,
      "metadata": {
        "colab": {
          "base_uri": "https://localhost:8080/",
          "height": 142
        },
        "id": "7MxJHckUIR_5",
        "outputId": "bac1f875-ab87-48bb-c6f7-634244220532"
      },
      "outputs": [
        {
          "output_type": "stream",
          "name": "stdout",
          "text": [
            "[1] \"p_hat\"\n"
          ]
        },
        {
          "output_type": "display_data",
          "data": {
            "text/html": [
              "0.278"
            ],
            "text/markdown": "0.278",
            "text/latex": "0.278",
            "text/plain": [
              "[1] 0.278"
            ]
          },
          "metadata": {}
        },
        {
          "output_type": "stream",
          "name": "stdout",
          "text": [
            "[1] \"z_95\"\n"
          ]
        },
        {
          "output_type": "display_data",
          "data": {
            "text/html": [
              "1.95996398454005"
            ],
            "text/markdown": "1.95996398454005",
            "text/latex": "1.95996398454005",
            "text/plain": [
              "[1] 1.959964"
            ]
          },
          "metadata": {}
        },
        {
          "output_type": "stream",
          "name": "stdout",
          "text": [
            "[1] \"Plug-in CI\"\n"
          ]
        },
        {
          "output_type": "display_data",
          "data": {
            "text/html": [
              "0.25023235248253"
            ],
            "text/markdown": "0.25023235248253",
            "text/latex": "0.25023235248253",
            "text/plain": [
              "[1] 0.2502324"
            ]
          },
          "metadata": {}
        },
        {
          "output_type": "display_data",
          "data": {
            "text/html": [
              "0.30576764751747"
            ],
            "text/markdown": "0.30576764751747",
            "text/latex": "0.30576764751747",
            "text/plain": [
              "[1] 0.3057676"
            ]
          },
          "metadata": {}
        }
      ],
      "source": [
        "n= 1000\n",
        "x = 278\n",
        "print(\"p_hat\")\n",
        "p_hat = x/n\n",
        "p_hat\n",
        "\n",
        "z_95 = qnorm(0.975)\n",
        "print(\"z_95\")\n",
        "z_95\n",
        "\n",
        "print(\"Plug-in CI\")\n",
        "lower = p_hat - z_95*sqrt(p_hat*(1-p_hat)/n)\n",
        "upper = p_hat + z_95*sqrt(p_hat*(1-p_hat)/n)\n",
        "lower;upper\n"
      ]
    },
    {
      "cell_type": "code",
      "source": [
        "x = c(74, 81, 77, 69, 85, 80, 73, 78) # session study\n",
        "y = c(65, 70, 68, 72, 66, 71) # self study\n",
        "\n",
        "n_x = length(x)\n",
        "n_y = length(y)\n",
        "\n",
        "\n",
        "x_bar = mean(x)\n",
        "y_bar = mean(y)\n",
        "\n",
        "s_x = var(x)\n",
        "s_y = var(y)\n",
        "\n",
        "max(s_x,s_y)/ min(s_x, s_y) # greater than 3. Using approximate t-distribution\n",
        "\n",
        "T_test <- (x_bar - y_bar)/ sqrt((s_x/n_x + s_y/ n_y))\n",
        "\n",
        "v = ((s_x/n_x + s_y/n_y)^2) / ((s_x/n_x)^2/(n_x-1) + (s_y/n_y)^2/(n_y - 1))\n",
        "\n",
        "t_critical = qt(0.95, v)  # 95% one-sided test\n",
        "\n",
        "ME <- t_critical * sqrt((s_x/n_x + s_y/n_y))\n",
        "CI_lower <- (x_bar - y_bar) - ME   # lower bound only\n",
        "CI_upper <- Inf                   # upper bound is infinity for one-sided\n",
        "CI_lower\n",
        "t.test(x, y, alternative = \"greater\")"
      ],
      "metadata": {
        "id": "khIqX26-ITkX",
        "outputId": "714402b8-a77a-4dce-d90a-7749a73424dc",
        "colab": {
          "base_uri": "https://localhost:8080/",
          "height": 254
        }
      },
      "execution_count": null,
      "outputs": [
        {
          "output_type": "display_data",
          "data": {
            "text/html": [
              "3.24833535108959"
            ],
            "text/markdown": "3.24833535108959",
            "text/latex": "3.24833535108959",
            "text/plain": [
              "[1] 3.248335"
            ]
          },
          "metadata": {}
        },
        {
          "output_type": "display_data",
          "data": {
            "text/html": [
              "4.65472136502231"
            ],
            "text/markdown": "4.65472136502231",
            "text/latex": "4.65472136502231",
            "text/plain": [
              "[1] 4.654721"
            ]
          },
          "metadata": {}
        },
        {
          "output_type": "display_data",
          "data": {
            "text/plain": [
              "\n",
              "\tWelch Two Sample t-test\n",
              "\n",
              "data:  x and y\n",
              "t = 3.9849, df = 11.268, p-value = 0.001021\n",
              "alternative hypothesis: true difference in means is greater than 0\n",
              "95 percent confidence interval:\n",
              " 4.654721      Inf\n",
              "sample estimates:\n",
              "mean of x mean of y \n",
              " 77.12500  68.66667 \n"
            ]
          },
          "metadata": {}
        }
      ]
    },
    {
      "cell_type": "code",
      "source": [
        "x <- c(32,37,35,28,41,44,35,31,34)\n",
        "y <- c(35,31,29,25,34,40,27,32,31)\n",
        "\n",
        "xbar <- mean(x)\n",
        "ybar <- mean(y)\n",
        "\n",
        "nx <- length(x)\n",
        "ny <- length(y)\n",
        "\n",
        "varx <- var(x)\n",
        "vary <- var(y)\n",
        "\n",
        "varp <- ((nx-1)*varx + (ny-1)*vary)/(nx+ny-2)\n",
        "\n",
        "T_test <- (xbar-ybar)/sqrt(varp*(1/nx+1/ny))\n",
        "T_critical <-qt(1-(0.05/2),16)\n",
        "\n",
        "abs(T_test) > qt(0.975,16)\n",
        "\n"
      ],
      "metadata": {
        "id": "Kcs7SAsSw0tI",
        "colab": {
          "base_uri": "https://localhost:8080/",
          "height": 254
        },
        "outputId": "02d63e55-b2df-484d-e81a-6ad180d0c011"
      },
      "execution_count": null,
      "outputs": [
        {
          "output_type": "display_data",
          "data": {
            "text/html": [
              "1.6494846165734"
            ],
            "text/markdown": "1.6494846165734",
            "text/latex": "1.6494846165734",
            "text/plain": [
              "[1] 1.649485"
            ]
          },
          "metadata": {}
        },
        {
          "output_type": "display_data",
          "data": {
            "text/html": [
              "FALSE"
            ],
            "text/markdown": "FALSE",
            "text/latex": "FALSE",
            "text/plain": [
              "[1] FALSE"
            ]
          },
          "metadata": {}
        },
        {
          "output_type": "display_data",
          "data": {
            "text/plain": [
              "\n",
              "\tWelch Two Sample t-test\n",
              "\n",
              "data:  x and y\n",
              "t = 1.6495, df = 15.844, p-value = 0.1187\n",
              "alternative hypothesis: true difference in means is not equal to 0\n",
              "95 percent confidence interval:\n",
              " -1.049486  8.382820\n",
              "sample estimates:\n",
              "mean of x mean of y \n",
              " 35.22222  31.55556 \n"
            ]
          },
          "metadata": {}
        }
      ]
    },
    {
      "cell_type": "code",
      "source": [
        "x1 <- c(1.25,1.16,1.33,1.15,1.23,1.20,1.32,1.28,1.21)\n",
        "x2 <- c(0.89,1.01,0.97,0.95,0.94,1.02,0.98,1.06,0.98)\n",
        "xbar1 <- mean(x1)\n",
        "xbar2 <- mean(x2)\n",
        "\n",
        "s1 <- var(x1)\n",
        "s2 <- var(x2)\n",
        "\n",
        "max(s1,s2)/min(s1,s2)\n",
        "\n",
        "n1 <- length(x1)\n",
        "n2 <- length(x2)\n",
        "\n",
        "num <- (s1/n1+s2/n2)^2\n",
        "den <- (s1/n1)^2/(n1-1)+(s2/n2)^2/(n2-1)\n",
        "nu <- (num/den)\n",
        "\n",
        "test.statistic <- (xbar1-xbar2)/sqrt(s1/n1+s2/n2)\n",
        "test.statistic\n",
        "t.crit <- qt(0.975,nu)\n",
        "\n",
        "test.statistic>t.crit\n",
        "\n",
        "t.test(x1, x2)"
      ],
      "metadata": {
        "id": "M-ssLb7l8lRA",
        "outputId": "25f5ad1c-550c-4cb2-960a-8a97046fbc5a",
        "colab": {
          "base_uri": "https://localhost:8080/",
          "height": 271
        }
      },
      "execution_count": null,
      "outputs": [
        {
          "output_type": "display_data",
          "data": {
            "text/html": [
              "1.69772727272727"
            ],
            "text/markdown": "1.69772727272727",
            "text/latex": "1.69772727272727",
            "text/plain": [
              "[1] 1.697727"
            ]
          },
          "metadata": {}
        },
        {
          "output_type": "display_data",
          "data": {
            "text/html": [
              "9.56413195488997"
            ],
            "text/markdown": "9.56413195488997",
            "text/latex": "9.56413195488997",
            "text/plain": [
              "[1] 9.564132"
            ]
          },
          "metadata": {}
        },
        {
          "output_type": "display_data",
          "data": {
            "text/html": [
              "TRUE"
            ],
            "text/markdown": "TRUE",
            "text/latex": "TRUE",
            "text/plain": [
              "[1] TRUE"
            ]
          },
          "metadata": {}
        },
        {
          "output_type": "display_data",
          "data": {
            "text/plain": [
              "\n",
              "\tWelch Two Sample t-test\n",
              "\n",
              "data:  x1 and x2\n",
              "t = 9.5641, df = 14.997, p-value = 8.969e-08\n",
              "alternative hypothesis: true difference in means is not equal to 0\n",
              "95 percent confidence interval:\n",
              " 0.2011922 0.3165856\n",
              "sample estimates:\n",
              "mean of x mean of y \n",
              "1.2366667 0.9777778 \n"
            ]
          },
          "metadata": {}
        }
      ]
    },
    {
      "cell_type": "code",
      "source": [
        "x = c(3,2,2,-1,3,3,3,3)\n",
        "sd(x)\n",
        "n = length(x)\n",
        "v = n - 1\n"
      ],
      "metadata": {
        "id": "89Cu20xYLzkB",
        "outputId": "9d30a894-5584-41e5-8afb-2d0cf03ecf51",
        "colab": {
          "base_uri": "https://localhost:8080/",
          "height": 34
        }
      },
      "execution_count": null,
      "outputs": [
        {
          "output_type": "display_data",
          "data": {
            "text/html": [
              "1.38873014965883"
            ],
            "text/markdown": "1.38873014965883",
            "text/latex": "1.38873014965883",
            "text/plain": [
              "[1] 1.38873"
            ]
          },
          "metadata": {}
        }
      ]
    },
    {
      "cell_type": "code",
      "source": [
        "library(tibble)\n",
        "library(dplyr)\n",
        "library(pander)\n",
        "\n",
        "# Create data frame properly\n",
        "df <- tibble(\n",
        "  Source = c(\"Recipe\", \"Residuals\"),\n",
        "  Df = c(2, 33),\n",
        "  `Sum Sq` = c(383.5, 396.5),\n",
        "  `Mean Sq` = c(191.74, 12.02),\n",
        "  `F value` = c(15.96, NA)\n",
        ")\n",
        "\n",
        "# Print ANOVA table nicely\n",
        "panderOptions('missing', \"\")\n",
        "pander(df, caption = \"ANOVA Table for Bread Recipe Study\")\n"
      ],
      "metadata": {
        "id": "iva1KqlryX0d",
        "colab": {
          "base_uri": "https://localhost:8080/"
        },
        "outputId": "c07e1aa7-4d5a-4381-8e48-630ac5d64640"
      },
      "execution_count": null,
      "outputs": [
        {
          "output_type": "stream",
          "name": "stdout",
          "text": [
            "\n",
            "\n",
            "|  Source   | Df | Sum Sq | Mean Sq | F value |\n",
            "|:---------:|:--:|:------:|:-------:|:-------:|\n",
            "|  Recipe   | 2  | 383.5  |  191.7  |  15.96  |\n",
            "| Residuals | 33 | 396.5  |  12.02  |         |\n",
            "\n",
            "Table: ANOVA Table for Bread Recipe Study\n",
            "\n"
          ]
        }
      ]
    },
    {
      "cell_type": "code",
      "source": [],
      "metadata": {
        "id": "J_Od5ZmjkgLr"
      },
      "execution_count": null,
      "outputs": []
    },
    {
      "cell_type": "code",
      "metadata": {
        "id": "d8f5efe1",
        "outputId": "05628ebb-a300-4869-820d-4db41f55cb5b",
        "colab": {
          "base_uri": "https://localhost:8080/"
        }
      },
      "source": [
        "alpha <- 0.05\n",
        "df1 <- 2  # Degrees of freedom for Recipe (numerator)\n",
        "df2 <- 28 # Degrees of freedom for Residuals (denominator)\n",
        "\n",
        "f_critical <- qf(1 - alpha, df1, df2)\n",
        "print(f_critical)"
      ],
      "execution_count": null,
      "outputs": [
        {
          "output_type": "stream",
          "name": "stdout",
          "text": [
            "[1] 3.340386\n"
          ]
        }
      ]
    },
    {
      "cell_type": "code",
      "source": [
        "SleepHours = c(4.0,4.26,4.53,4.79,5.05,5.32,5.58,5.84,6.11,6.37,6.63,6.89,7.16,7.42,7.68,7.95,8.21,8.47,8.74,9.0)\n",
        "ProductivityScore = c(51.1,45.9,54.8,53.3,59.0,55.5,59.6,60.6,58.6,67.2,59.7,62.8,58.2,67.1,71.7,67.4,74.8,70.5,68.0,77.1)\n",
        "model = lm(ProductivityScore ~ SleepHours)\n",
        "\n",
        "summary(model)\n"
      ],
      "metadata": {
        "id": "Pn9hDk0wmJUa",
        "outputId": "1c5aef35-9bb1-4461-a3c5-0b8faf819c3e",
        "colab": {
          "base_uri": "https://localhost:8080/",
          "height": 348
        }
      },
      "execution_count": 2,
      "outputs": [
        {
          "output_type": "display_data",
          "data": {
            "text/plain": [
              "\n",
              "Call:\n",
              "lm(formula = ProductivityScore ~ SleepHours)\n",
              "\n",
              "Residuals:\n",
              "    Min      1Q  Median      3Q     Max \n",
              "-7.0914 -1.6646 -0.0619  2.2941  5.6748 \n",
              "\n",
              "Coefficients:\n",
              "            Estimate Std. Error t value Pr(>|t|)    \n",
              "(Intercept)  31.1574     3.4868   8.936 4.90e-08 ***\n",
              "SleepHours    4.7673     0.5224   9.126 3.58e-08 ***\n",
              "---\n",
              "Signif. codes:  0 ‘***’ 0.001 ‘**’ 0.01 ‘*’ 0.05 ‘.’ 0.1 ‘ ’ 1\n",
              "\n",
              "Residual standard error: 3.544 on 18 degrees of freedom\n",
              "Multiple R-squared:  0.8223,\tAdjusted R-squared:  0.8124 \n",
              "F-statistic: 83.28 on 1 and 18 DF,  p-value: 3.579e-08\n"
            ]
          },
          "metadata": {}
        }
      ]
    },
    {
      "cell_type": "code",
      "source": [
        "# Install ggplot2 (only once)\n",
        "install.packages(\"ggplot2\")\n",
        "\n",
        "# Load ggplot2 every time you start R\n",
        "library(ggplot2)"
      ],
      "metadata": {
        "id": "M7-Uhhk9l4PZ",
        "outputId": "d0fd779f-fdd7-4158-813c-0a3918991485",
        "colab": {
          "base_uri": "https://localhost:8080/"
        }
      },
      "execution_count": 5,
      "outputs": [
        {
          "output_type": "stream",
          "name": "stderr",
          "text": [
            "Installing package into ‘/usr/local/lib/R/site-library’\n",
            "(as ‘lib’ is unspecified)\n",
            "\n"
          ]
        }
      ]
    },
    {
      "cell_type": "code",
      "source": [
        "data <- data.frame(SleepHours, ProductivityScore)\n",
        "\n",
        "\n",
        "# Plot data and fitted regression line\n",
        "ggplot(data, aes(x = SleepHours, y = ProductivityScore)) +\n",
        "  geom_point()+\n",
        "  geom_smooth(method = \"lm\")\n",
        "\n",
        "plot(model, which = 1) # Residuals vs Fitted\n",
        "plot(model, which = 2) # Normal Q-Q plot\n"
      ],
      "metadata": {
        "id": "_bivxnfWGWv2",
        "outputId": "6fcd851e-8d83-4a41-d38d-bdf2a533ff1b",
        "colab": {
          "base_uri": "https://localhost:8080/",
          "height": 1000
        }
      },
      "execution_count": 7,
      "outputs": [
        {
          "output_type": "stream",
          "name": "stderr",
          "text": [
            "\u001b[1m\u001b[22m`geom_smooth()` using formula = 'y ~ x'\n"
          ]
        },
        {
          "output_type": "display_data",
          "data": {
            "text/plain": [
              "plot without title"
            ],
            "image/png": "[encoded data removed]"
          },
          "metadata": {
            "image/png": {
              "width": 420,
              "height": 420
            }
          }
        },
        {
          "output_type": "display_data",
          "data": {
            "text/plain": [
              "Plot with title “”"
            ],
            "image/png": "[encoded data removed]"
          },
          "metadata": {
            "image/png": {
              "width": 420,
              "height": 420
            }
          }
        },
        {
          "output_type": "display_data",
          "data": {
            "text/plain": [
              "Plot with title “”"
            ],
            "image/png": "[encoded data removed]"
          },
          "metadata": {
            "image/png": {
              "width": 420,
              "height": 420
            }
          }
        }
      ]
    },
    {
      "cell_type": "code",
      "source": [],
      "metadata": {
        "id": "wA_Glo08dBcn"
      },
      "execution_count": null,
      "outputs": []
    }
  ]
}