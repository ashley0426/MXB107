{
  "nbformat": 4,
  "nbformat_minor": 0,
  "metadata": {
    "colab": {
      "provenance": [],
      "authorship_tag": "ABX9TyOiybiUtwfCQgxi0ZSVVgBC",
      "include_colab_link": true
    },
    "kernelspec": {
      "name": "ir",
      "display_name": "R"
    },
    "language_info": {
      "name": "R"
    }
  },
  "cells": [
    {
      "cell_type": "markdown",
      "metadata": {
        "id": "view-in-github",
        "colab_type": "text"
      },
      "source": [
        "<a href=\"https://colab.research.google.com/github/ashley0426/MXB107/blob/main/PST2.ipynb\" target=\"_parent\"><img src=\"https://colab.research.google.com/assets/colab-badge.svg\" alt=\"Open In Colab\"/></a>"
      ]
    },
    {
      "cell_type": "code",
      "execution_count": 1,
      "metadata": {
        "colab": {
          "base_uri": "https://localhost:8080/",
          "height": 142
        },
        "id": "7MxJHckUIR_5",
        "outputId": "bac1f875-ab87-48bb-c6f7-634244220532"
      },
      "outputs": [
        {
          "output_type": "stream",
          "name": "stdout",
          "text": [
            "[1] \"p_hat\"\n"
          ]
        },
        {
          "output_type": "display_data",
          "data": {
            "text/html": [
              "0.278"
            ],
            "text/markdown": "0.278",
            "text/latex": "0.278",
            "text/plain": [
              "[1] 0.278"
            ]
          },
          "metadata": {}
        },
        {
          "output_type": "stream",
          "name": "stdout",
          "text": [
            "[1] \"z_95\"\n"
          ]
        },
        {
          "output_type": "display_data",
          "data": {
            "text/html": [
              "1.95996398454005"
            ],
            "text/markdown": "1.95996398454005",
            "text/latex": "1.95996398454005",
            "text/plain": [
              "[1] 1.959964"
            ]
          },
          "metadata": {}
        },
        {
          "output_type": "stream",
          "name": "stdout",
          "text": [
            "[1] \"Plug-in CI\"\n"
          ]
        },
        {
          "output_type": "display_data",
          "data": {
            "text/html": [
              "0.25023235248253"
            ],
            "text/markdown": "0.25023235248253",
            "text/latex": "0.25023235248253",
            "text/plain": [
              "[1] 0.2502324"
            ]
          },
          "metadata": {}
        },
        {
          "output_type": "display_data",
          "data": {
            "text/html": [
              "0.30576764751747"
            ],
            "text/markdown": "0.30576764751747",
            "text/latex": "0.30576764751747",
            "text/plain": [
              "[1] 0.3057676"
            ]
          },
          "metadata": {}
        }
      ],
      "source": [
        "n= 1000\n",
        "x = 278\n",
        "print(\"p_hat\")\n",
        "p_hat = x/n\n",
        "p_hat\n",
        "\n",
        "z_95 = qnorm(0.975)\n",
        "print(\"z_95\")\n",
        "z_95\n",
        "\n",
        "print(\"Plug-in CI\")\n",
        "lower = p_hat - z_95*sqrt(p_hat*(1-p_hat)/n)\n",
        "upper = p_hat + z_95*sqrt(p_hat*(1-p_hat)/n)\n",
        "lower;upper\n"
      ]
    },
    {
      "cell_type": "code",
      "source": [],
      "metadata": {
        "id": "khIqX26-ITkX"
      },
      "execution_count": null,
      "outputs": []
    }
  ]
}