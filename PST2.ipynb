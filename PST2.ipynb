{
  "nbformat": 4,
  "nbformat_minor": 0,
  "metadata": {
    "colab": {
      "provenance": [],
      "authorship_tag": "ABX9TyOHFdTvBr+k0x5EMtwjzawT",
      "include_colab_link": true
    },
    "kernelspec": {
      "name": "ir",
      "display_name": "R"
    },
    "language_info": {
      "name": "R"
    }
  },
  "cells": [
    {
      "cell_type": "markdown",
      "metadata": {
        "id": "view-in-github",
        "colab_type": "text"
      },
      "source": [
        "<a href=\"https://colab.research.google.com/github/ashley0426/MXB107/blob/main/PST2.ipynb\" target=\"_parent\"><img src=\"https://colab.research.google.com/assets/colab-badge.svg\" alt=\"Open In Colab\"/></a>"
      ]
    },
    {
      "cell_type": "code",
      "execution_count": null,
      "metadata": {
        "colab": {
          "base_uri": "https://localhost:8080/",
          "height": 142
        },
        "id": "7MxJHckUIR_5",
        "outputId": "bac1f875-ab87-48bb-c6f7-634244220532"
      },
      "outputs": [
        {
          "output_type": "stream",
          "name": "stdout",
          "text": [
            "[1] \"p_hat\"\n"
          ]
        },
        {
          "output_type": "display_data",
          "data": {
            "text/html": [
              "0.278"
            ],
            "text/markdown": "0.278",
            "text/latex": "0.278",
            "text/plain": [
              "[1] 0.278"
            ]
          },
          "metadata": {}
        },
        {
          "output_type": "stream",
          "name": "stdout",
          "text": [
            "[1] \"z_95\"\n"
          ]
        },
        {
          "output_type": "display_data",
          "data": {
            "text/html": [
              "1.95996398454005"
            ],
            "text/markdown": "1.95996398454005",
            "text/latex": "1.95996398454005",
            "text/plain": [
              "[1] 1.959964"
            ]
          },
          "metadata": {}
        },
        {
          "output_type": "stream",
          "name": "stdout",
          "text": [
            "[1] \"Plug-in CI\"\n"
          ]
        },
        {
          "output_type": "display_data",
          "data": {
            "text/html": [
              "0.25023235248253"
            ],
            "text/markdown": "0.25023235248253",
            "text/latex": "0.25023235248253",
            "text/plain": [
              "[1] 0.2502324"
            ]
          },
          "metadata": {}
        },
        {
          "output_type": "display_data",
          "data": {
            "text/html": [
              "0.30576764751747"
            ],
            "text/markdown": "0.30576764751747",
            "text/latex": "0.30576764751747",
            "text/plain": [
              "[1] 0.3057676"
            ]
          },
          "metadata": {}
        }
      ],
      "source": [
        "n= 1000\n",
        "x = 278\n",
        "print(\"p_hat\")\n",
        "p_hat = x/n\n",
        "p_hat\n",
        "\n",
        "z_95 = qnorm(0.975)\n",
        "print(\"z_95\")\n",
        "z_95\n",
        "\n",
        "print(\"Plug-in CI\")\n",
        "lower = p_hat - z_95*sqrt(p_hat*(1-p_hat)/n)\n",
        "upper = p_hat + z_95*sqrt(p_hat*(1-p_hat)/n)\n",
        "lower;upper\n"
      ]
    },
    {
      "cell_type": "code",
      "source": [
        "smpl_session= c(74, 81, 77, 69, 85, 80, 73, 78)\n",
        "smpl_self = c(65, 70, 68, 72, 66, 71)\n",
        "\n",
        "n_1 = length(smpl_session)\n",
        "n_2 = length(smpl_self)\n",
        "\n",
        "z_975 = qnorm(0.975)\n",
        "print(\"z_975\")\n",
        "z_975\n",
        "\n",
        "x_bar_1 = mean(smpl_session)\n",
        "print(\"Mean of session(x_bar_1)\")\n",
        "x_bar_1\n",
        "\n",
        "x_bar_2 = mean(smpl_self)\n",
        "print(\"Mean of self study(x_bar_2)\")\n",
        "x_bar_2\n",
        "\n",
        "s_1 = sd(smpl_session)\n",
        "print(\"Std of session\")\n",
        "s_1\n",
        "\n",
        "s_2 = sd(smpl_self)\n",
        "print(\"Std of self study\")\n",
        "s_2\n",
        "\n",
        "std_error = sqrt((s_1^2/n_1) + (s_2^2/n_2))\n",
        "print(\"SE\")\n",
        "std_error\n",
        "\n",
        "Z = (x_bar_1 - x_bar_2)/ std_error\n",
        "print(\"Test statistics Z\")\n",
        "Z"
      ],
      "metadata": {
        "id": "khIqX26-ITkX",
        "outputId": "25e61fa2-e3f0-47d4-8cd4-82abbe861a79",
        "colab": {
          "base_uri": "https://localhost:8080/",
          "height": 267
        }
      },
      "execution_count": 8,
      "outputs": [
        {
          "output_type": "stream",
          "name": "stdout",
          "text": [
            "[1] \"z_975\"\n"
          ]
        },
        {
          "output_type": "display_data",
          "data": {
            "text/html": [
              "1.95996398454005"
            ],
            "text/markdown": "1.95996398454005",
            "text/latex": "1.95996398454005",
            "text/plain": [
              "[1] 1.959964"
            ]
          },
          "metadata": {}
        },
        {
          "output_type": "stream",
          "name": "stdout",
          "text": [
            "[1] \"Mean of session(x_bar_1)\"\n"
          ]
        },
        {
          "output_type": "display_data",
          "data": {
            "text/html": [
              "77.125"
            ],
            "text/markdown": "77.125",
            "text/latex": "77.125",
            "text/plain": [
              "[1] 77.125"
            ]
          },
          "metadata": {}
        },
        {
          "output_type": "stream",
          "name": "stdout",
          "text": [
            "[1] \"Mean of self study(x_bar_2)\"\n"
          ]
        },
        {
          "output_type": "display_data",
          "data": {
            "text/html": [
              "68.6666666666667"
            ],
            "text/markdown": "68.6666666666667",
            "text/latex": "68.6666666666667",
            "text/plain": [
              "[1] 68.66667"
            ]
          },
          "metadata": {}
        },
        {
          "output_type": "stream",
          "name": "stdout",
          "text": [
            "[1] \"Std of session\"\n"
          ]
        },
        {
          "output_type": "display_data",
          "data": {
            "text/html": [
              "5.05505404803662"
            ],
            "text/markdown": "5.05505404803662",
            "text/latex": "5.05505404803662",
            "text/plain": [
              "[1] 5.055054"
            ]
          },
          "metadata": {}
        },
        {
          "output_type": "stream",
          "name": "stdout",
          "text": [
            "[1] \"Std of self study\"\n"
          ]
        },
        {
          "output_type": "display_data",
          "data": {
            "text/html": [
              "2.80475786239502"
            ],
            "text/markdown": "2.80475786239502",
            "text/latex": "2.80475786239502",
            "text/plain": [
              "[1] 2.804758"
            ]
          },
          "metadata": {}
        },
        {
          "output_type": "stream",
          "name": "stdout",
          "text": [
            "[1] \"SE\"\n"
          ]
        },
        {
          "output_type": "display_data",
          "data": {
            "text/html": [
              "2.12257097400359"
            ],
            "text/markdown": "2.12257097400359",
            "text/latex": "2.12257097400359",
            "text/plain": [
              "[1] 2.122571"
            ]
          },
          "metadata": {}
        },
        {
          "output_type": "stream",
          "name": "stdout",
          "text": [
            "[1] \"Test statistics Z\"\n"
          ]
        },
        {
          "output_type": "display_data",
          "data": {
            "text/html": [
              "3.98494723471095"
            ],
            "text/markdown": "3.98494723471095",
            "text/latex": "3.98494723471095",
            "text/plain": [
              "[1] 3.984947"
            ]
          },
          "metadata": {}
        }
      ]
    },
    {
      "cell_type": "code",
      "source": [],
      "metadata": {
        "id": "Kcs7SAsSw0tI"
      },
      "execution_count": null,
      "outputs": []
    }
  ]
}